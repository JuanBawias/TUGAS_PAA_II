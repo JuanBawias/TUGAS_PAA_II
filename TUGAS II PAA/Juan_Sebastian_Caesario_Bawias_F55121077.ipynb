{
  "nbformat": 4,
  "nbformat_minor": 0,
  "metadata": {
    "colab": {
      "provenance": []
    },
    "kernelspec": {
      "name": "python3",
      "display_name": "Python 3"
    },
    "language_info": {
      "name": "python"
    }
  },
  "cells": [
    {
      "cell_type": "markdown",
      "source": [
        "NAMA : JUAN SEBASTIAN CAESARIO BAWIAS\n",
        "NIM  : F55121077\n",
        "KELAS: B"
      ],
      "metadata": {
        "id": "u7VT-YE6g-Dj"
      }
    },
    {
      "cell_type": "markdown",
      "source": [
        "Bubble sort adalah salah satu algoritma pengurutan sederhana yang bekerja dengan membandingkan dua elemen adjacent dalam sebuah array dan menukar posisi mereka jika urutannya salah. Algoritma ini akan terus melintasi array hingga tidak ada lagi pertukaran yang perlu dilakukan, sehingga semua elemen berada pada posisi yang benar secara terurut."
      ],
      "metadata": {
        "id": "14aZ4OTohE7c"
      }
    },
    {
      "cell_type": "markdown",
      "source": [
        "CONTOH PROGRAM BUBBLE SORT"
      ],
      "metadata": {
        "id": "BE_JG5RPhtqf"
      }
    },
    {
      "cell_type": "code",
      "source": [
        "def bubble_sort(arr):\n",
        "    n = len(arr)\n",
        "    for i in range(n):\n",
        "        # Mengurangi iterasi setiap kali, karena elemen terakhir sudah terurut\n",
        "        for j in range(0, n-i-1):\n",
        "            # Membandingkan elemen adjacent\n",
        "            if arr[j] > arr[j+1]:\n",
        "                # Menukar posisi elemen jika urutannya salah\n",
        "                arr[j], arr[j+1] = arr[j+1], arr[j]\n",
        "\n",
        "# Contoh penggunaan\n",
        "array = [64, 34, 25, 12, 22, 11, 90]\n",
        "\n",
        "bubble_sort(array)\n",
        "\n",
        "print(\"Array yang diurutkan:\")\n",
        "for i in range(len(array)):\n",
        "    print(array[i])\n"
      ],
      "metadata": {
        "colab": {
          "base_uri": "https://localhost:8080/"
        },
        "id": "-T0GEbxahS-T",
        "outputId": "2dae1141-d2a4-4b6f-d72d-97ae2d1c8c00"
      },
      "execution_count": 1,
      "outputs": [
        {
          "output_type": "stream",
          "name": "stdout",
          "text": [
            "Array yang diurutkan:\n",
            "11\n",
            "12\n",
            "22\n",
            "25\n",
            "34\n",
            "64\n",
            "90\n"
          ]
        }
      ]
    },
    {
      "cell_type": "markdown",
      "source": [
        "Insertion sort adalah algoritma pengurutan sederhana yang bekerja dengan membagi array menjadi dua bagian: bagian yang sudah diurutkan dan bagian yang belum diurutkan. Algoritma ini memilih satu elemen dari bagian yang belum diurutkan pada setiap iterasi dan memasukkannya ke posisi yang tepat dalam bagian yang sudah diurutkan. Proses ini berlanjut hingga seluruh elemen pada bagian belum diurutkan dimasukkan ke dalam bagian yang sudah diurutkan, sehingga menghasilkan array yang terurut."
      ],
      "metadata": {
        "id": "2XbztruthcnU"
      }
    },
    {
      "cell_type": "markdown",
      "source": [
        "CONTOH KODE PROGRAM INSERTION SORT"
      ],
      "metadata": {
        "id": "Ej5rGuWchoru"
      }
    },
    {
      "cell_type": "code",
      "source": [
        "def insertion_sort(arr):\n",
        "    n = len(arr)\n",
        "    for i in range(1, n):\n",
        "        key = arr[i]\n",
        "        j = i - 1\n",
        "        # Memindahkan elemen-elemen yang lebih besar dari key ke kanan\n",
        "        while j >= 0 and arr[j] > key:\n",
        "            arr[j+1] = arr[j]\n",
        "            j -= 1\n",
        "        arr[j+1] = key\n",
        "\n",
        "# Contoh penggunaan\n",
        "array = [64, 34, 25, 12, 22, 11, 90]\n",
        "\n",
        "insertion_sort(array)\n",
        "\n",
        "print(\"Array yang diurutkan:\")\n",
        "for i in range(len(array)):\n",
        "    print(array[i])\n"
      ],
      "metadata": {
        "colab": {
          "base_uri": "https://localhost:8080/"
        },
        "id": "dkCa-NqLh86W",
        "outputId": "fb9ec958-ab54-4dcd-e2b6-25a467c2a270"
      },
      "execution_count": 2,
      "outputs": [
        {
          "output_type": "stream",
          "name": "stdout",
          "text": [
            "Array yang diurutkan:\n",
            "11\n",
            "12\n",
            "22\n",
            "25\n",
            "34\n",
            "64\n",
            "90\n"
          ]
        }
      ]
    },
    {
      "cell_type": "markdown",
      "source": [
        "**bandingKan insertion sort dan bubble sort secara optimal dan tidak optimal**"
      ],
      "metadata": {
        "id": "k0YtoFOFiVlI"
      }
    },
    {
      "cell_type": "markdown",
      "source": [
        "Secara optimal, baik insertion sort maupun bubble sort memiliki kompleksitas waktu yang sama, yaitu O(n^2), di mana n adalah jumlah elemen dalam array yang akan diurutkan. Keduanya juga merupakan algoritma pengurutan sederhana yang tidak memerlukan ruang tambahan untuk operasi pengurutan.\n",
        "\n",
        "Namun, dalam prakteknya, bubble sort cenderung lebih lambat daripada insertion sort. Hal ini disebabkan oleh cara kerja masing-masing algoritma.\n",
        "\n",
        "Bubble sort membandingkan dan menukar elemen adjacent secara berulang-ulang sampai seluruh array terurut. Algoritma ini berulang kali melintasi array dari awal hingga akhir, memeriksa pasangan elemen adjacent, dan menukar mereka jika urutannya salah. Bubble sort memiliki kinerja yang buruk pada array yang hampir terurut, karena meskipun elemen sudah hampir berada pada posisi yang benar, algoritma ini tetap melakukan pertukaran elemen secara berulang-ulang pada setiap iterasi.\n",
        "\n",
        "Sementara itu, insertion sort membagi array menjadi dua bagian: bagian yang sudah diurutkan dan bagian yang belum diurutkan. Algoritma ini memilih satu elemen dari bagian yang belum diurutkan pada setiap iterasi dan memasukkannya ke posisi yang tepat dalam bagian yang sudah diurutkan. Insertion sort memiliki kinerja yang lebih baik pada array yang hampir terurut, karena algoritma ini hanya memerlukan sedikit pergeseran elemen saat memasukkan elemen baru ke dalam bagian yang sudah diurutkan.\n",
        "\n",
        "Dengan demikian, secara umum, insertion sort dianggap lebih optimal daripada bubble sort, terutama pada kasus-kasus di mana array hampir terurut. Namun, jika array memiliki ukuran yang sangat kecil atau array sudah terurut secara keseluruhan, perbedaan kinerja antara keduanya mungkin tidak signifikan."
      ],
      "metadata": {
        "id": "Vw-ACl8kiQdk"
      }
    }
  ]
}